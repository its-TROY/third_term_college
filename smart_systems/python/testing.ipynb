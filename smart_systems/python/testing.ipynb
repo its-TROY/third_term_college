{
 "cells": [
  {
   "cell_type": "code",
   "execution_count": 3,
   "metadata": {},
   "outputs": [
    {
     "name": "stdout",
     "output_type": "stream",
     "text": [
      "x = 4, y = 5, sum = 9\n",
      "max: 5\n",
      "avg: 4.5\n"
     ]
    }
   ],
   "source": [
    "x = int(input('enter x: '))\n",
    "y = int(input('enter y: '))\n",
    "\n",
    "sum = x + y\n",
    "print(f'x = {x}, y = {y}, sum = {sum}')\n",
    "if x > y:\n",
    "    print(f'max: {x}')\n",
    "else:\n",
    "    print(f'max: {y}')\n",
    "\n",
    "print(f'avg: {sum / 2}')"
   ]
  }
 ],
 "metadata": {
  "kernelspec": {
   "display_name": "base",
   "language": "python",
   "name": "python3"
  },
  "language_info": {
   "codemirror_mode": {
    "name": "ipython",
    "version": 3
   },
   "file_extension": ".py",
   "mimetype": "text/x-python",
   "name": "python",
   "nbconvert_exporter": "python",
   "pygments_lexer": "ipython3",
   "version": "3.11.4"
  }
 },
 "nbformat": 4,
 "nbformat_minor": 2
}
